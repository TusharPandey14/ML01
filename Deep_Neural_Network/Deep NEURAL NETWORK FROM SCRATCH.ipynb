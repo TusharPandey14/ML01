{
 "cells": [
  {
   "cell_type": "markdown",
   "id": "4cb52a34",
   "metadata": {},
   "source": [
    "##  Importing numpy package for vectorized implementation"
   ]
  },
  {
   "cell_type": "code",
   "execution_count": 2,
   "id": "3e2c347f",
   "metadata": {},
   "outputs": [],
   "source": [
    "import numpy as np"
   ]
  },
  {
   "cell_type": "markdown",
   "id": "e88b95f1",
   "metadata": {},
   "source": [
    "## Importing Matplot package for ploting cost vs number of iteration graph (graph is optional)"
   ]
  },
  {
   "cell_type": "code",
   "execution_count": 3,
   "id": "c5027b62",
   "metadata": {},
   "outputs": [],
   "source": [
    "import matplotlib.pyplot as plt"
   ]
  },
  {
   "cell_type": "markdown",
   "id": "39292ba1",
   "metadata": {},
   "source": [
    "## Initializing Weight and bias units"
   ]
  },
  {
   "cell_type": "code",
   "execution_count": 5,
   "id": "98b52272",
   "metadata": {},
   "outputs": [],
   "source": [
    "def initialize_parameters_deep(layer_dims):\n",
    "    \n",
    "    np.random.seed(3)\n",
    "    parameters = {}\n",
    "    L = len(layer_dims)            # number of layers in the network\n",
    "\n",
    "    for l in range(1, L):\n",
    "        \n",
    "        parameters['W' + str(l)] = np.random.randn(layer_dims[l], layer_dims[l-1]) * 0.01\n",
    "        parameters['b' + str(l)] = np.zeros(shape=(layer_dims[l],1))\n",
    "        \n",
    "    return parameters"
   ]
  },
  {
   "cell_type": "markdown",
   "id": "0316bc52",
   "metadata": {},
   "source": [
    "## Function for Forward Propagation in Neural Network"
   ]
  },
  {
   "cell_type": "code",
   "execution_count": 6,
   "id": "78a64151",
   "metadata": {},
   "outputs": [],
   "source": [
    "def linear_activation_forward(A_prev, W, b, activation):\n",
    "    \n",
    "    Z = np.dot(W,A_prev) + b\n",
    "    linear_cache = (A_prev, W, b)\n",
    "    activation_cache = Z\n",
    "    \n",
    "    if activation == \"sigmoid\":\n",
    "        A = 1/(1+np.exp(-Z))\n",
    "        \n",
    "    elif activation == \"relu\":\n",
    "        A = np.maximum(0,Z)\n",
    "    \n",
    "    cache = (linear_cache, activation_cache)\n",
    "\n",
    "    return A, cache\n",
    "\n",
    "\n",
    "def L_model_forward(X, parameters):\n",
    "    \n",
    "    np.random.seed(1)\n",
    "    caches = []\n",
    "    A = X\n",
    "    L = len(parameters) // 2\n",
    "    \n",
    "    for l in range(1, L):\n",
    "        A_prev = A \n",
    "        A, cache = linear_activation_forward(A_prev, parameters['W' + str(l)], parameters['b' + str(l)], activation = \"relu\")\n",
    "        caches.append(cache)\n",
    "    \n",
    "    AL, cache = linear_activation_forward(A, parameters['W' + str(L)], parameters['b' + str(L)], activation = \"sigmoid\")\n",
    "    caches.append(cache)\n",
    "    \n",
    "    return AL, caches"
   ]
  },
  {
   "cell_type": "markdown",
   "id": "05e68f0b",
   "metadata": {},
   "source": [
    "## Function to Compute the cost of model "
   ]
  },
  {
   "cell_type": "code",
   "execution_count": 7,
   "id": "649b7830",
   "metadata": {},
   "outputs": [],
   "source": [
    "def compute_cost(AL, Y):\n",
    "    \n",
    "    m = Y.shape[1]\n",
    "    cost = (-1 / m) * (np.sum(np.multiply(Y, np.log(AL)) + np.multiply(1 - Y, np.log(1 - AL))))\n",
    "    cost = np.squeeze(cost)\n",
    "    \n",
    "    return cost"
   ]
  },
  {
   "cell_type": "markdown",
   "id": "0265ac27",
   "metadata": {},
   "source": [
    "## Function for backward propagation in Neural network (use of gradient descent for optimizing parameters)"
   ]
  },
  {
   "cell_type": "code",
   "execution_count": 8,
   "id": "cd0125c6",
   "metadata": {},
   "outputs": [],
   "source": [
    "def relu_backward(dA, cache):\n",
    "    \n",
    "    Z = cache\n",
    "    dZ = np.array(dA, copy=True)\n",
    "    dZ[Z <= 0] = 0\n",
    "    \n",
    "    return dZ\n",
    "\n",
    "def sigmoid_backward(dA, cache):\n",
    "    \n",
    "    Z = cache\n",
    "    s = 1/(1+np.exp(-Z))\n",
    "    dZ = dA * s * (1-s)\n",
    "    \n",
    "    return dZ\n",
    "\n",
    "def linear_activation_backward(dA, cache, activation):\n",
    "    \n",
    "    linear_cache, activation_cache = cache\n",
    "    \n",
    "    if activation == \"relu\":\n",
    "        dZ = relu_backward(dA, activation_cache)\n",
    "                \n",
    "    elif activation == \"sigmoid\":\n",
    "        dZ = sigmoid_backward(dA, activation_cache)\n",
    "        \n",
    "    A_prev, W, b = linear_cache\n",
    "    m = A_prev.shape[1]\n",
    "\n",
    "    dW = 1./m * np.dot(dZ,A_prev.T)\n",
    "    db = 1./m * np.sum(dZ, axis = 1, keepdims = True)\n",
    "    dA_prev = np.dot(W.T,dZ)\n",
    "    \n",
    "    return dA_prev, dW, db\n",
    "\n",
    "def L_model_backward(AL, Y, caches):\n",
    "    \n",
    "    np.random.seed(1)\n",
    "    grads = {}\n",
    "    L = len(caches) # the number of layers\n",
    "    m = AL.shape[1]\n",
    "    Y = Y.reshape(AL.shape) # after this line, Y is the same shape as AL\n",
    "    \n",
    "    # Initializing the backpropagation\n",
    "    dAL = - (np.divide(Y, AL) - np.divide(1 - Y, 1 - AL))\n",
    "    \n",
    "    # Lth layer (SIGMOID -> LINEAR) gradients. Inputs: \"AL, Y, caches\". Outputs: \"grads[\"dAL\"], grads[\"dWL\"], grads[\"dbL\"]\n",
    "    current_cache = caches[L-1]\n",
    "    grads[\"dA\" + str(L-1)], grads[\"dW\" + str(L)], grads[\"db\" + str(L)] = linear_activation_backward(dAL, current_cache, activation = \"sigmoid\")\n",
    "    \n",
    "    for l in reversed(range(L-1)):\n",
    "        # lth layer: (RELU -> LINEAR) gradients.\n",
    "        current_cache = caches[l]\n",
    "        dA_prev_temp, dW_temp, db_temp = linear_activation_backward(grads[\"dA\" + str(l + 1)], current_cache, activation = \"relu\")\n",
    "        grads[\"dA\" + str(l)] = dA_prev_temp\n",
    "        grads[\"dW\" + str(l + 1)] = dW_temp\n",
    "        grads[\"db\" + str(l + 1)] = db_temp\n",
    "\n",
    "    return grads"
   ]
  },
  {
   "cell_type": "markdown",
   "id": "5630e5d6",
   "metadata": {},
   "source": [
    "## Function for changing parameters after each optimization"
   ]
  },
  {
   "cell_type": "code",
   "execution_count": 9,
   "id": "488a6c9c",
   "metadata": {},
   "outputs": [],
   "source": [
    "def update_parameters(parameters, grads, learning_rate):\n",
    "    \n",
    "    L = len(parameters) // 2 # number of layers in the neural network\n",
    "\n",
    "    for l in range(L):\n",
    "        parameters[\"W\" + str(l + 1)] -= learning_rate * grads[\"dW\" + str(l + 1)]\n",
    "        parameters[\"b\" + str(l + 1)] -= learning_rate * grads[\"db\" + str(l + 1)]\n",
    "    \n",
    "    return parameters"
   ]
  },
  {
   "cell_type": "markdown",
   "id": "b3e3b8b8",
   "metadata": {},
   "source": [
    "## Function that builds the whole Neural Network by the functions implemented previously"
   ]
  },
  {
   "cell_type": "code",
   "execution_count": 10,
   "id": "6f3a5d32",
   "metadata": {},
   "outputs": [],
   "source": [
    "def L_layer_model(X, Y, layers_dims, learning_rate = 0.0075, num_iterations = 1000, print_cost=False):\n",
    "    \n",
    "    costs = []                         # keep track of cost\n",
    "    \n",
    "    parameters = initialize_parameters_deep(layers_dims)\n",
    "    \n",
    "    for i in range(0, num_iterations):   # Loop (gradient descent)\n",
    "\n",
    "        AL, caches = L_model_forward(X, parameters)\n",
    "        \n",
    "        if print_cost:\n",
    "            cost = compute_cost(AL, Y)\n",
    "        \n",
    "        grads = L_model_backward(AL, Y, caches)\n",
    "        \n",
    "        parameters = update_parameters(parameters, grads, learning_rate)\n",
    "        \n",
    "        if print_cost and i % 100 == 0:\n",
    "            print (\"Cost after iteration %i: %f\" %(i, cost))\n",
    "        if print_cost and i % 100 == 0:\n",
    "            costs.append(cost)\n",
    "    \n",
    "    if print_cost :\n",
    "        plt.plot(np.squeeze(costs))\n",
    "        plt.ylabel('cost')\n",
    "        plt.xlabel('iterations (per hundreds)')\n",
    "        plt.title(\"Learning rate =\" + str(learning_rate))\n",
    "        plt.show()\n",
    "    \n",
    "    return parameters"
   ]
  },
  {
   "cell_type": "markdown",
   "id": "ca11998d",
   "metadata": {},
   "source": [
    "## Prediction on Test Dataset "
   ]
  },
  {
   "cell_type": "code",
   "execution_count": 12,
   "id": "0d91fd17",
   "metadata": {},
   "outputs": [],
   "source": [
    "def predict(X, y, parameters,print_accuracy=False):\n",
    "    \n",
    "    # Forward propagation\n",
    "    AL, caches = L_model_forward(X, parameters)\n",
    "    predictions = np.round(AL)\n",
    "    \n",
    "    if print_accuracy:\n",
    "        m = X.shape[1]\n",
    "        n = len(parameters) // 2\n",
    "        p = np.zeros((1,m))\n",
    "        print(\"Accuracy: \"  + str(np.sum((predictions == y)/m)))\n",
    "        \n",
    "    return predictions"
   ]
  },
  {
   "cell_type": "markdown",
   "id": "4faa06bc",
   "metadata": {},
   "source": [
    "## Initiliazing the size of neural network"
   ]
  },
  {
   "cell_type": "code",
   "execution_count": 13,
   "id": "f174b93f",
   "metadata": {},
   "outputs": [],
   "source": [
    "layers_dims = [2, 20, 7, 5, 1] #  4-layer model\n",
    "\n",
    "## layers_dims[0] - input layer (Number of features)\n",
    "## layers_dims[1...3] - hidden layer\n",
    "## layers_dims[4] - output layer (1 unit for binomial classification)"
   ]
  },
  {
   "cell_type": "code",
   "execution_count": null,
   "id": "7b75556b",
   "metadata": {},
   "outputs": [],
   "source": []
  }
 ],
 "metadata": {
  "kernelspec": {
   "display_name": "Python 3 (ipykernel)",
   "language": "python",
   "name": "python3"
  },
  "language_info": {
   "codemirror_mode": {
    "name": "ipython",
    "version": 3
   },
   "file_extension": ".py",
   "mimetype": "text/x-python",
   "name": "python",
   "nbconvert_exporter": "python",
   "pygments_lexer": "ipython3",
   "version": "3.11.1"
  }
 },
 "nbformat": 4,
 "nbformat_minor": 5
}
